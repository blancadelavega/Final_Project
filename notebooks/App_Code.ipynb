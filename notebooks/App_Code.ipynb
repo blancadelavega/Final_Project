{
 "cells": [
  {
   "cell_type": "code",
   "execution_count": 2,
   "id": "c9e7ead2",
   "metadata": {},
   "outputs": [
    {
     "name": "stdout",
     "output_type": "stream",
     "text": [
      "Overwriting app.py\n"
     ]
    }
   ],
   "source": [
    "%%writefile app.py\n",
    "import streamlit as st\n",
    "import numpy as np\n",
    "import pandas as pd\n",
    "import joblib \n",
    "\n",
    "\n",
    "# Loads\n",
    "model = joblib.load(\"FinalModel.pkl\")\n",
    "scaler = joblib.load(\"scaler.pkl\")\n",
    "\n",
    "# Title\n",
    "st.title(\"📊 Employee Turnover Prediction\")\n",
    "\n",
    "# Inputs\n",
    "over_time = st.selectbox(\"⏳ OverTime\", [\"Yes\", \"No\"])\n",
    "num_companies_worked = st.number_input(\"🏢 Number of Companies Worked For\", 0, 10, step=1)\n",
    "total_working_years = st.number_input(\"📅 Total Working Years\", 0, 50, step=1)\n",
    "job_level = st.selectbox(\"📊 Job Level\", [\"Assistant\", \"Junior\", \"Intermediate\", \"Senior\", \"Manager/Leader\"])\n",
    "marital_status = st.selectbox(\"💍 Marital Status\", [\"Single\", \"Married\", \"Divorced\"])\n",
    "years_in_current_role = st.number_input(\"🧑‍💼 Years in Current Role\", 0, 20, step=1)\n",
    "years_at_company = st.number_input(\"🏢 Years at Company\", 0, 50, step=1)\n",
    "age = st.number_input(\"🎂 Age\", 18, 65, step=1)\n",
    "stock_option_level = st.selectbox(\"📈 Stock Option Level\", [\"No Options\", \"Basic Options\", \"Moderate Options\", \"Advanced Options\"])\n",
    "job_satisfaction = st.selectbox(\"😊 Job Satisfaction\", [\"Dissatisfied\", \"Neutral\", \"Satisfied\", \"Extremely Satisfied\"])\n",
    "environment_satisfaction = st.selectbox(\"🏢 Environment Satisfaction\", [\"Dissatisfied\", \"Neutral\", \"Satisfied\", \"Extremely Satisfied\"])\n",
    "relationship_satisfaction = st.selectbox(\"🤝 Relationship Satisfaction\", [\"Dissatisfied\", \"Neutral\", \"Satisfied\", \"Extremely Satisfied\"])\n",
    "distance_from_home = st.number_input(\"🚗 Distance from Home (km)\", 0, 50, step=1)\n",
    "work_life_balance = st.selectbox(\"⚖️ Work-Life Balance\", [\"Poor\", \"Fair\", \"Good\", \"Excellent\"])\n",
    "\n",
    "# Encoding variables\n",
    "satisfaction_mapping = {\"Dissatisfied\": 1, \"Neutral\": 2, \"Satisfied\": 3, \"Extremely Satisfied\": 4}\n",
    "work_life_balance_mapping = {\"Poor\": 1, \"Fair\": 2, \"Good\": 3, \"Excellent\": 4}\n",
    "label_encoders = {\n",
    "    \"OverTime\": {\"Yes\": 1, \"No\": 0},\n",
    "    \"MaritalStatus\": {\"Single\": 0, \"Married\": 1, \"Divorced\": 2},\n",
    "    \"JobLevel\": {\"Assistant\": 1, \"Junior\": 2, \"Intermediate\": 3, \"Senior\": 4, \"Manager/Leader\": 5},\n",
    "    \"StockOptionLevel\": {\"No Options\": 0, \"Basic Options\": 1, \"Moderate Options\": 2, \"Advanced Options\": 3}\n",
    "}\n",
    "\n",
    "# Calculate new variables\n",
    "job_change_frequency = num_companies_worked / total_working_years if total_working_years > 0 else 0\n",
    "company_loyalty_ratio = years_at_company / age if age > 0 else 0\n",
    "overall_satisfaction = (satisfaction_mapping[job_satisfaction] \n",
    "                        + satisfaction_mapping[environment_satisfaction] \n",
    "                        + satisfaction_mapping[relationship_satisfaction] ) / 3\n",
    "\n",
    "# Create DataFrame\n",
    "input_data = pd.DataFrame([[\n",
    "    label_encoders[\"OverTime\"][over_time],\n",
    "    job_change_frequency,\n",
    "    total_working_years,\n",
    "    label_encoders[\"JobLevel\"][job_level],\n",
    "    label_encoders[\"MaritalStatus\"][marital_status],\n",
    "    years_in_current_role,\n",
    "    company_loyalty_ratio,\n",
    "    label_encoders[\"StockOptionLevel\"][stock_option_level],\n",
    "    overall_satisfaction,\n",
    "    distance_from_home,\n",
    "    work_life_balance_mapping[work_life_balance]\n",
    "]], columns=[\n",
    "    \"OverTime\", \"JobChangeFrequency\", \"TotalWorkingYears\", \"JobLevel\", \"MaritalStatus\",\n",
    "    \"YearsInCurrentRole\", \"CompanyLoyaltyRatio\", \"StockOptionLevel\", \"OverallSatisfaction\",\n",
    "    \"DistanceFromHome\", \"WorkLifeBalance\"\n",
    "])\n",
    "\n",
    "# Scale data\n",
    "input_data_scaled = scaler.transform(input_data)\n",
    "\n",
    "# Prediction\n",
    "if st.button(\"🔍 Predict\"):\n",
    "    prediction = model.predict(input_data_scaled)[0]\n",
    "    result = \"🚨 **The employee WILL TURNOVER** 🚨\" if prediction == 1 else \"✅ **The employee will NOT turnover** ✅\"\n",
    "    st.success(result)\n"
   ]
  }
 ],
 "metadata": {
  "kernelspec": {
   "display_name": "Python [conda env:jupyter] *",
   "language": "python",
   "name": "conda-env-jupyter-py"
  },
  "language_info": {
   "codemirror_mode": {
    "name": "ipython",
    "version": 3
   },
   "file_extension": ".py",
   "mimetype": "text/x-python",
   "name": "python",
   "nbconvert_exporter": "python",
   "pygments_lexer": "ipython3",
   "version": "3.9.20"
  }
 },
 "nbformat": 4,
 "nbformat_minor": 5
}
