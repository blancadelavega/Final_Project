{
 "cells": [
  {
   "cell_type": "markdown",
   "id": "4dec6588",
   "metadata": {},
   "source": [
    "- Model SGDClassifier \n",
    "- StandardScaler()\n",
    "- Variables: 'OverTime', 'JobChangeFrequency', 'TotalWorkingYears', 'JobLevel', 'MaritalStatus', 'YearsInCurrentRole', 'CompanyLoyaltyRatio','StockOptionLevel', 'OverallSatisfaction', 'DistanceFromHome', 'WorkLifeBalance'\n",
    "- class_weight='balanced'\n",
    "- GridSearchCV"
   ]
  },
  {
   "cell_type": "code",
   "execution_count": 5,
   "id": "799b2179",
   "metadata": {},
   "outputs": [],
   "source": [
    "# imports \n",
    "\n",
    "import numpy as np\n",
    "import pandas as pd\n",
    "import matplotlib.pyplot as plt\n",
    "import seaborn as sns\n",
    "\n",
    "from sklearn.model_selection import train_test_split\n",
    "from sklearn.model_selection import GridSearchCV\n",
    "from sklearn.preprocessing import StandardScaler\n",
    "from sklearn.linear_model import SGDClassifier\n",
    "\n",
    "import joblib"
   ]
  },
  {
   "cell_type": "code",
   "execution_count": 6,
   "id": "e6cbd8ce",
   "metadata": {},
   "outputs": [
    {
     "name": "stderr",
     "output_type": "stream",
     "text": [
      "C:\\Users\\bdelavega1\\AppData\\Local\\Temp\\ipykernel_30156\\4252704408.py:25: FutureWarning: Downcasting behavior in `replace` is deprecated and will be removed in a future version. To retain the old behavior, explicitly call `result.infer_objects(copy=False)`. To opt-in to the future behavior, set `pd.set_option('future.no_silent_downcasting', True)`\n",
      "  X.replace(label_encoders, inplace=True)\n"
     ]
    },
    {
     "name": "stdout",
     "output_type": "stream",
     "text": [
      "\n",
      "Accuracy: 0.7109\n",
      "Precision: 0.2500\n",
      "Recall: 0.5897\n",
      "F1 Score: 0.3511\n",
      "ROC AUC Score: 0.6596\n",
      "\n"
     ]
    },
    {
     "data": {
      "image/png": "[encoded data removed]",
      "text/plain": [
       "<Figure size 500x500 with 1 Axes>"
      ]
     },
     "metadata": {},
     "output_type": "display_data"
    },
    {
     "data": {
      "text/plain": [
       "['FinalModel.pkl']"
      ]
     },
     "execution_count": 6,
     "metadata": {},
     "output_type": "execute_result"
    }
   ],
   "source": [
    "# Load dataset\n",
    "data = pd.read_csv('../data/HR-Employee-Attrition.csv')\n",
    "\n",
    "# New Variables\n",
    "data['JobChangeFrequency'] = (data['NumCompaniesWorked'] / data['TotalWorkingYears']) .replace([np.inf, -np.inf], np.nan).fillna(0).astype(int)\n",
    "\n",
    "data['CompanyLoyaltyRatio'] = (data['YearsAtCompany'] / data['Age']) .replace([np.inf, -np.inf], np.nan).fillna(0).astype(int)\n",
    "\n",
    "data['OverallSatisfaction'] = ((data['JobSatisfaction'] + data['EnvironmentSatisfaction'] + data['RelationshipSatisfaction']) / 3).replace([np.inf, -np.inf], np.nan).fillna(0).astype(int)\n",
    "\n",
    "# Define features and target\n",
    "features = [\n",
    "    'OverTime', 'JobChangeFrequency', 'TotalWorkingYears', 'JobLevel',\n",
    "    'MaritalStatus', 'YearsInCurrentRole', 'CompanyLoyaltyRatio',\n",
    "    'StockOptionLevel', 'OverallSatisfaction', 'DistanceFromHome', 'WorkLifeBalance'\n",
    "]\n",
    "X = data[features].copy()\n",
    "y = data['Attrition'].map({'Yes': 1, 'No': 0})\n",
    "\n",
    "# Encode categorical variables\n",
    "label_encoders = {\n",
    "    'OverTime': {'Yes': 1, 'No': 0},\n",
    "    'MaritalStatus': {'Single': 0, 'Married': 1, 'Divorced': 2}\n",
    "}\n",
    "X.replace(label_encoders, inplace=True)\n",
    "\n",
    "# Scale features\n",
    "scaler = StandardScaler()\n",
    "X_scaled = scaler.fit_transform(X)\n",
    "\n",
    "# Split data into training and testing sets\n",
    "X_train, X_test, y_train, y_test = train_test_split(X_scaled, y, test_size=0.2, random_state=42)\n",
    "\n",
    "# Define model with class weight balancing\n",
    "model = SGDClassifier(loss='log_loss', class_weight='balanced', random_state=42)\n",
    "\n",
    "# Hyperparameter tuning using Grid Search\n",
    "param_grid = {\n",
    "    'alpha': [0.0001, 0.001, 0.01, 0.1],\n",
    "    'penalty': ['l2', 'l1', 'elasticnet'],\n",
    "    'max_iter': [1000, 2000, 5000]\n",
    "}\n",
    "grid_search = GridSearchCV(model, param_grid, cv=5, scoring='f1_weighted', n_jobs=-1)\n",
    "\n",
    "# Train the model\n",
    "grid_search.fit(X_train, y_train)\n",
    "\n",
    "# Best model selection\n",
    "best_model = grid_search.best_estimator_\n",
    "y_pred = best_model.predict(X_test)\n",
    "\n",
    "# Performance metrics\n",
    "accuracy = accuracy_score(y_test, y_pred)\n",
    "precision = precision_score(y_test, y_pred)\n",
    "recall = recall_score(y_test, y_pred)\n",
    "f1 = f1_score(y_test, y_pred)\n",
    "roc_auc = roc_auc_score(y_test, y_pred)\n",
    "conf_matrix = confusion_matrix(y_test, y_pred)\n",
    "\n",
    "# Print metrics\n",
    "metrics_text = f\"\"\"\n",
    "Accuracy: {accuracy:.4f}\n",
    "Precision: {precision:.4f}\n",
    "Recall: {recall:.4f}\n",
    "F1 Score: {f1:.4f}\n",
    "ROC AUC Score: {roc_auc:.4f}\n",
    "\"\"\"\n",
    "print(metrics_text)\n",
    "\n",
    "# Display confusion matrix\n",
    "plt.figure(figsize=(5, 5))\n",
    "sns.heatmap(conf_matrix, annot=True, fmt='d', cmap='Blues', cbar=False)\n",
    "plt.title('Confusion Matrix')\n",
    "plt.xlabel('Predicted')\n",
    "plt.ylabel('Actual')\n",
    "plt.show()\n",
    "\n",
    "# Save model and scaler\n",
    "joblib.dump(scaler, \"scaler.pkl\")\n",
    "joblib.dump(grid_search.best_estimator_, \"FinalModel.pkl\")"
   ]
  }
 ],
 "metadata": {
  "kernelspec": {
   "display_name": "Python [conda env:sklearn-env]",
   "language": "python",
   "name": "conda-env-sklearn-env-py"
  },
  "language_info": {
   "codemirror_mode": {
    "name": "ipython",
    "version": 3
   },
   "file_extension": ".py",
   "mimetype": "text/x-python",
   "name": "python",
   "nbconvert_exporter": "python",
   "pygments_lexer": "ipython3",
   "version": "3.13.1"
  }
 },
 "nbformat": 4,
 "nbformat_minor": 5
}
