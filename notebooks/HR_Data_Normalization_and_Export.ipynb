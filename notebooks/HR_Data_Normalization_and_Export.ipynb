{
 "cells": [
  {
   "cell_type": "raw",
   "id": "fb92b12b",
   "metadata": {},
   "source": [
    "Migración del origen a una bbdd - Normalización y transformación de los datos."
   ]
  },
  {
   "cell_type": "code",
   "execution_count": 1,
   "id": "ec5e0d01",
   "metadata": {},
   "outputs": [],
   "source": [
    "import pandas as pd"
   ]
  },
  {
   "cell_type": "code",
   "execution_count": 3,
   "id": "6e4da34b",
   "metadata": {},
   "outputs": [],
   "source": [
    "# Cargar el archivo CSV original\n",
    "df = pd.read_csv('../data/HR-Employee-Attrition.csv')"
   ]
  },
  {
   "cell_type": "code",
   "execution_count": 8,
   "id": "34a2e81c",
   "metadata": {},
   "outputs": [
    {
     "data": {
      "text/html": [
       "<div>\n",
       "<style scoped>\n",
       "    .dataframe tbody tr th:only-of-type {\n",
       "        vertical-align: middle;\n",
       "    }\n",
       "\n",
       "    .dataframe tbody tr th {\n",
       "        vertical-align: top;\n",
       "    }\n",
       "\n",
       "    .dataframe thead th {\n",
       "        text-align: right;\n",
       "    }\n",
       "</style>\n",
       "<table border=\"1\" class=\"dataframe\">\n",
       "  <thead>\n",
       "    <tr style=\"text-align: right;\">\n",
       "      <th></th>\n",
       "      <th>EmployeeNumber</th>\n",
       "      <th>Age</th>\n",
       "      <th>Gender</th>\n",
       "      <th>BusinessTravel</th>\n",
       "      <th>DistanceFromHome</th>\n",
       "      <th>Education</th>\n",
       "      <th>EducationField</th>\n",
       "      <th>MaritalStatus</th>\n",
       "      <th>Department</th>\n",
       "      <th>JobRole</th>\n",
       "      <th>Attrition</th>\n",
       "    </tr>\n",
       "  </thead>\n",
       "  <tbody>\n",
       "    <tr>\n",
       "      <th>0</th>\n",
       "      <td>1</td>\n",
       "      <td>41</td>\n",
       "      <td>Female</td>\n",
       "      <td>Travel_Rarely</td>\n",
       "      <td>1</td>\n",
       "      <td>2</td>\n",
       "      <td>Life Sciences</td>\n",
       "      <td>Single</td>\n",
       "      <td>Sales</td>\n",
       "      <td>Sales Executive</td>\n",
       "      <td>Yes</td>\n",
       "    </tr>\n",
       "    <tr>\n",
       "      <th>1</th>\n",
       "      <td>2</td>\n",
       "      <td>49</td>\n",
       "      <td>Male</td>\n",
       "      <td>Travel_Frequently</td>\n",
       "      <td>8</td>\n",
       "      <td>1</td>\n",
       "      <td>Life Sciences</td>\n",
       "      <td>Married</td>\n",
       "      <td>Research &amp; Development</td>\n",
       "      <td>Research Scientist</td>\n",
       "      <td>No</td>\n",
       "    </tr>\n",
       "    <tr>\n",
       "      <th>2</th>\n",
       "      <td>4</td>\n",
       "      <td>37</td>\n",
       "      <td>Male</td>\n",
       "      <td>Travel_Rarely</td>\n",
       "      <td>2</td>\n",
       "      <td>2</td>\n",
       "      <td>Other</td>\n",
       "      <td>Single</td>\n",
       "      <td>Research &amp; Development</td>\n",
       "      <td>Laboratory Technician</td>\n",
       "      <td>Yes</td>\n",
       "    </tr>\n",
       "    <tr>\n",
       "      <th>3</th>\n",
       "      <td>5</td>\n",
       "      <td>33</td>\n",
       "      <td>Female</td>\n",
       "      <td>Travel_Frequently</td>\n",
       "      <td>3</td>\n",
       "      <td>4</td>\n",
       "      <td>Life Sciences</td>\n",
       "      <td>Married</td>\n",
       "      <td>Research &amp; Development</td>\n",
       "      <td>Research Scientist</td>\n",
       "      <td>No</td>\n",
       "    </tr>\n",
       "    <tr>\n",
       "      <th>4</th>\n",
       "      <td>7</td>\n",
       "      <td>27</td>\n",
       "      <td>Male</td>\n",
       "      <td>Travel_Rarely</td>\n",
       "      <td>2</td>\n",
       "      <td>1</td>\n",
       "      <td>Medical</td>\n",
       "      <td>Married</td>\n",
       "      <td>Research &amp; Development</td>\n",
       "      <td>Laboratory Technician</td>\n",
       "      <td>No</td>\n",
       "    </tr>\n",
       "  </tbody>\n",
       "</table>\n",
       "</div>"
      ],
      "text/plain": [
       "   EmployeeNumber  Age  Gender     BusinessTravel  DistanceFromHome  \\\n",
       "0               1   41  Female      Travel_Rarely                 1   \n",
       "1               2   49    Male  Travel_Frequently                 8   \n",
       "2               4   37    Male      Travel_Rarely                 2   \n",
       "3               5   33  Female  Travel_Frequently                 3   \n",
       "4               7   27    Male      Travel_Rarely                 2   \n",
       "\n",
       "   Education EducationField MaritalStatus              Department  \\\n",
       "0          2  Life Sciences        Single                   Sales   \n",
       "1          1  Life Sciences       Married  Research & Development   \n",
       "2          2          Other        Single  Research & Development   \n",
       "3          4  Life Sciences       Married  Research & Development   \n",
       "4          1        Medical       Married  Research & Development   \n",
       "\n",
       "                 JobRole Attrition  \n",
       "0        Sales Executive       Yes  \n",
       "1     Research Scientist        No  \n",
       "2  Laboratory Technician       Yes  \n",
       "3     Research Scientist        No  \n",
       "4  Laboratory Technician        No  "
      ]
     },
     "execution_count": 8,
     "metadata": {},
     "output_type": "execute_result"
    }
   ],
   "source": [
    "# Tabla Employees (Datos Generales)\n",
    "employees = df[[\n",
    "    'EmployeeNumber', 'Age', 'Gender', 'BusinessTravel', 'DistanceFromHome', \n",
    "    'Education', 'EducationField', 'MaritalStatus', 'Department', 'JobRole', \n",
    "    'Attrition'\n",
    "]]\n",
    "employees.head()"
   ]
  },
  {
   "cell_type": "code",
   "execution_count": 6,
   "id": "7c528310",
   "metadata": {},
   "outputs": [
    {
     "name": "stdout",
     "output_type": "stream",
     "text": [
      "Attrition\n",
      "No     1233\n",
      "Yes     237\n",
      "Name: count, dtype: int64\n"
     ]
    }
   ],
   "source": [
    "print(df['Attrition'].value_counts())"
   ]
  },
  {
   "cell_type": "code",
   "execution_count": 21,
   "id": "e2cbaf8a",
   "metadata": {},
   "outputs": [],
   "source": [
    "# Tabla EmployeeEvaluations (Rendimiento y Satisfacción)\n",
    "evaluations = df[[\n",
    "    'EmployeeNumber', 'JobSatisfaction', 'JobInvolvement', 'PerformanceRating', \n",
    "    'RelationshipSatisfaction', 'WorkLifeBalance', 'EnvironmentSatisfaction'\n",
    "]]"
   ]
  },
  {
   "cell_type": "code",
   "execution_count": 24,
   "id": "987a1036",
   "metadata": {},
   "outputs": [],
   "source": [
    "# Tabla JobDetails (Información del Puesto y Experiencia)\n",
    "job_details = df[[\n",
    "    'EmployeeNumber', 'JobLevel', 'NumCompaniesWorked', 'YearsInCurrentRole', \n",
    "    'YearsSinceLastPromotion', 'YearsWithCurrManager', 'TotalWorkingYears', \n",
    "    'TrainingTimesLastYear','YearsAtCompany'\n",
    "]]"
   ]
  },
  {
   "cell_type": "code",
   "execution_count": 27,
   "id": "d30ab5b1",
   "metadata": {},
   "outputs": [],
   "source": [
    "# Tabla OverTimeRecords (Registro de Horas Extra)\n",
    "overtime_records = df[[\n",
    "    'EmployeeNumber', 'OverTime'\n",
    "]]"
   ]
  },
  {
   "cell_type": "code",
   "execution_count": 13,
   "id": "d68ecb3b",
   "metadata": {},
   "outputs": [],
   "source": [
    "# Tabla CompensationBenefits (Salario y Beneficios)\n",
    "compensation = df[[\n",
    "    'EmployeeNumber', 'MonthlyIncome', 'HourlyRate', 'MonthlyRate', 'DailyRate', \n",
    "    'StockOptionLevel', 'PercentSalaryHike'\n",
    "]]"
   ]
  },
  {
   "cell_type": "code",
   "execution_count": 14,
   "id": "baaea0f9",
   "metadata": {},
   "outputs": [],
   "source": [
    "# Tabla EmployeeStatus (Datos constantes y administrativos) \n",
    "employee_status = df[[\n",
    "    'EmployeeNumber', 'Over18', 'EmployeeCount', 'StandardHours'\n",
    "]]"
   ]
  },
  {
   "cell_type": "code",
   "execution_count": 15,
   "id": "83fa9680",
   "metadata": {},
   "outputs": [],
   "source": [
    "# Guardar df en .csv\n",
    "\n",
    "employees.to_csv(\"data/employees.csv\", index=False)\n",
    "evaluations.to_csv(\"data/employee_evaluations.csv\", index=False)\n",
    "job_details.to_csv(\"data/job_details.csv\", index=False)\n",
    "compensation.to_csv(\"data/compensation_benefits.csv\", index=False)\n",
    "overtime_records.to_csv(\"data/overtime_records.csv\", index=False)\n",
    "employee_status.to_csv(\"data/employee_status.csv\", index=False)\n"
   ]
  }
 ],
 "metadata": {
  "kernelspec": {
   "display_name": "Python [conda env:m1]",
   "language": "python",
   "name": "conda-env-m1-py"
  },
  "language_info": {
   "codemirror_mode": {
    "name": "ipython",
    "version": 3
   },
   "file_extension": ".py",
   "mimetype": "text/x-python",
   "name": "python",
   "nbconvert_exporter": "python",
   "pygments_lexer": "ipython3",
   "version": "3.10.14"
  }
 },
 "nbformat": 4,
 "nbformat_minor": 5
}
